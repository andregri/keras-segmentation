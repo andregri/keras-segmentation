{
 "metadata": {
  "language_info": {
   "codemirror_mode": {
    "name": "ipython",
    "version": 3
   },
   "file_extension": ".py",
   "mimetype": "text/x-python",
   "name": "python",
   "nbconvert_exporter": "python",
   "pygments_lexer": "ipython3",
   "version": 3
  },
  "orig_nbformat": 2
 },
 "nbformat": 4,
 "nbformat_minor": 2,
 "cells": [
  {
   "cell_type": "markdown",
   "metadata": {},
   "source": [
    "# 1.1 Mount Google Drive and define the paths"
   ]
  },
  {
   "cell_type": "code",
   "execution_count": null,
   "metadata": {},
   "outputs": [],
   "source": [
    "from google.colab import drive \n",
    "drive.mount('/content/gdrive')"
   ]
  },
  {
   "cell_type": "code",
   "execution_count": null,
   "metadata": {},
   "outputs": [],
   "source": [
    "dataset_path = Path(\"/content/gdrive/My Drive/cityscape_small/\")\n",
    "list(dataset_path.iterdir())"
   ]
  },
  {
   "cell_type": "code",
   "execution_count": null,
   "metadata": {},
   "outputs": [],
   "source": [
    "gt_path = dataset_path / \"gtFine_trainvaltest\" / \"gtFine\"\n",
    "img_path = dataset_path / \"leftImg8bit_trainvaltest\" / \"leftImg8bit\""
   ]
  },
  {
   "cell_type": "code",
   "execution_count": null,
   "metadata": {},
   "outputs": [],
   "source": [
    "img_paths = {}\n",
    "label_paths = {}\n",
    "for key in [\"train\", \"val\", \"test\"]:\n",
    "  img_paths[key] = [path for path in (img_path / key).rglob(\"*.png\")]\n",
    "  # labelsId images have one channel and grey level represents the label id.\n",
    "  label_paths[key] = [path for path in (gt_path / key).rglob(\"*.png\") if \"labelIds\" in path.name]\n",
    "\n",
    "print(f\"\"\"\n",
    "TRAIN: {len(img_paths['train'])}, {len(label_paths['train'])}\n",
    "VAL:   {len(img_paths['val'])}, {len(label_paths['val'])}\n",
    "TEST:  {len(img_paths['test'])}, {len(label_paths['test'])}\n",
    "\"\"\")"
   ]
  },
  {
   "cell_type": "code",
   "execution_count": null,
   "metadata": {},
   "outputs": [],
   "source": [
    "for key in [\"train\", \"val\", \"test\"]:\n",
    "  assert len(img_paths[key]) == len(label_paths[key]), f\"Number of {key} images and labels mismatch.\""
   ]
  },
  {
   "cell_type": "code",
   "execution_count": null,
   "metadata": {},
   "outputs": [],
   "source": [
    "for key in [\"train\", \"val\", \"test\"]:\n",
    "  img_paths[key].sort(), label_paths[key].sort()"
   ]
  },
  {
   "cell_type": "markdown",
   "metadata": {},
   "source": [
    "# 1.2 Create the datasets"
   ]
  },
  {
   "cell_type": "code",
   "execution_count": null,
   "metadata": {},
   "outputs": [],
   "source": []
  }
 ]
}